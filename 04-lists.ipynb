{
 "cells": [
  {
   "cell_type": "code",
   "execution_count": 1,
   "id": "6169c6cc-1591-4d1b-aeda-d14002c41688",
   "metadata": {},
   "outputs": [
    {
     "name": "stdout",
     "output_type": "stream",
     "text": [
      "Odds are: [1, 3, 5, 7]\n"
     ]
    }
   ],
   "source": [
    "odds = [1, 3, 5, 7]\n",
    "print('Odds are:', odds)"
   ]
  },
  {
   "cell_type": "code",
   "execution_count": 2,
   "id": "7574dbed-4e70-47b3-8c1f-293e6869c4f8",
   "metadata": {},
   "outputs": [
    {
     "name": "stdout",
     "output_type": "stream",
     "text": [
      "First element in the list 1\n"
     ]
    }
   ],
   "source": [
    "print(\"First element in the list\", odds[0])"
   ]
  },
  {
   "cell_type": "code",
   "execution_count": 3,
   "id": "73b90226-fda2-4ff8-a7de-14f2d729f88d",
   "metadata": {},
   "outputs": [
    {
     "name": "stdout",
     "output_type": "stream",
     "text": [
      "Last element in the list 7\n"
     ]
    }
   ],
   "source": [
    "print(\"Last element in the list\", odds[-1])"
   ]
  },
  {
   "cell_type": "code",
   "execution_count": 4,
   "id": "6140693d-30d2-4c31-9046-32bd43208404",
   "metadata": {},
   "outputs": [
    {
     "name": "stdout",
     "output_type": "stream",
     "text": [
      "Every second element in the list [1, 5]\n"
     ]
    }
   ],
   "source": [
    "print(\"Every second element in the list\", odds[0::2])"
   ]
  },
  {
   "cell_type": "code",
   "execution_count": 5,
   "id": "4f9505c7-6032-4593-8a78-fd1d8568925a",
   "metadata": {},
   "outputs": [
    {
     "name": "stdout",
     "output_type": "stream",
     "text": [
      "name is originally ['Curie', 'Darwing', 'Turing']\n",
      "Final values of names ['Curie', 'Darwin', 'Turing']\n"
     ]
    }
   ],
   "source": [
    "names = [\"Curie\", \"Darwing\", \"Turing\"]\n",
    "print(\"name is originally\", names)\n",
    "names[1] = \"Darwin\"\n",
    "print(\"Final values of names\", names)"
   ]
  },
  {
   "cell_type": "code",
   "execution_count": 6,
   "id": "6e3fb8ae-8c93-47c6-ab99-4122071df831",
   "metadata": {},
   "outputs": [
    {
     "name": "stdout",
     "output_type": "stream",
     "text": [
      "First character in the name D\n"
     ]
    }
   ],
   "source": [
    "name = \"Darwin\"\n",
    "print(\"First character in the name\", name[0])"
   ]
  },
  {
   "cell_type": "code",
   "execution_count": 7,
   "id": "8fbb1599-b74a-49f5-827d-2b2a8186ccf2",
   "metadata": {},
   "outputs": [
    {
     "ename": "TypeError",
     "evalue": "'str' object does not support item assignment",
     "output_type": "error",
     "traceback": [
      "\u001b[1;31m---------------------------------------------------------------------------\u001b[0m",
      "\u001b[1;31mTypeError\u001b[0m                                 Traceback (most recent call last)",
      "Input \u001b[1;32mIn [7]\u001b[0m, in \u001b[0;36m<cell line: 1>\u001b[1;34m()\u001b[0m\n\u001b[1;32m----> 1\u001b[0m name[\u001b[38;5;241m0\u001b[39m] \u001b[38;5;241m=\u001b[39m \u001b[38;5;124m\"\u001b[39m\u001b[38;5;124md\u001b[39m\u001b[38;5;124m\"\u001b[39m\n",
      "\u001b[1;31mTypeError\u001b[0m: 'str' object does not support item assignment"
     ]
    }
   ],
   "source": [
    "name[0] = \"d\""
   ]
  },
  {
   "cell_type": "code",
   "execution_count": 8,
   "id": "54bcf31a-1813-4c76-90ac-5dfc796ecf41",
   "metadata": {},
   "outputs": [],
   "source": [
    "x = [\n",
    "    [\"pepper\", \"courgette\", \"onion\"],\n",
    "    [\"cabbage\",\"lettuce\",\"garlic\"],\n",
    "    [\"apple\",\"pear\",\"banana\"]\n",
    "]"
   ]
  },
  {
   "cell_type": "code",
   "execution_count": 9,
   "id": "23e52ea3-6ca2-4ac7-b97f-e5537456d7e9",
   "metadata": {},
   "outputs": [
    {
     "name": "stdout",
     "output_type": "stream",
     "text": [
      "['pepper', 'courgette', 'onion']\n"
     ]
    }
   ],
   "source": [
    "print(x[0])"
   ]
  },
  {
   "cell_type": "code",
   "execution_count": 10,
   "id": "d64c046b-8d54-4bb4-abb8-8d6f29040e20",
   "metadata": {},
   "outputs": [
    {
     "name": "stdout",
     "output_type": "stream",
     "text": [
      "courgette\n"
     ]
    }
   ],
   "source": [
    "print(x[0][1])"
   ]
  },
  {
   "cell_type": "code",
   "execution_count": 11,
   "id": "ee6ed86a-bde5-4f5b-8f63-2f9ba5e134d1",
   "metadata": {},
   "outputs": [],
   "source": [
    "sample_ages = [10, 12.5, \"unknown\"]"
   ]
  },
  {
   "cell_type": "code",
   "execution_count": 12,
   "id": "fea232ec-6487-4db1-b3df-9971b6ee4207",
   "metadata": {},
   "outputs": [
    {
     "data": {
      "text/plain": [
       "list"
      ]
     },
     "execution_count": 12,
     "metadata": {},
     "output_type": "execute_result"
    }
   ],
   "source": [
    "type(sample_ages)"
   ]
  },
  {
   "cell_type": "code",
   "execution_count": 14,
   "id": "b32890a9-b66d-48aa-b964-1bf30181a024",
   "metadata": {},
   "outputs": [
    {
     "name": "stdout",
     "output_type": "stream",
     "text": [
      "<class 'int'>\n",
      "<class 'float'>\n",
      "<class 'str'>\n"
     ]
    }
   ],
   "source": [
    "print(type(sample_ages[0]))\n",
    "print(type(sample_ages[1]))\n",
    "print(type(sample_ages[2]))"
   ]
  },
  {
   "cell_type": "code",
   "execution_count": 15,
   "id": "f93cb270-76f3-4770-a4a0-72e8f4ec0bc7",
   "metadata": {},
   "outputs": [
    {
     "name": "stdout",
     "output_type": "stream",
     "text": [
      "Odds after adding a value [1, 3, 5, 7, 11]\n"
     ]
    }
   ],
   "source": [
    "odds.append(11)\n",
    "print(\"Odds after adding a value\", odds)"
   ]
  },
  {
   "cell_type": "code",
   "execution_count": 16,
   "id": "47a9bcd2-def3-4ae0-b517-d6c1ce438987",
   "metadata": {},
   "outputs": [],
   "source": [
    "removed_element = odds.pop(0)"
   ]
  },
  {
   "cell_type": "code",
   "execution_count": 17,
   "id": "26725625-d546-466d-a974-fb47fa5c8b35",
   "metadata": {},
   "outputs": [
    {
     "name": "stdout",
     "output_type": "stream",
     "text": [
      "odds after removing the first element [3, 5, 7, 11]\n",
      "removed_element 1\n"
     ]
    }
   ],
   "source": [
    "print(\"odds after removing the first element\", odds)\n",
    "print(\"removed_element\", removed_element)"
   ]
  },
  {
   "cell_type": "code",
   "execution_count": 18,
   "id": "e86d4cb6-3d7d-49b5-b906-5f7741ae064c",
   "metadata": {},
   "outputs": [
    {
     "name": "stdout",
     "output_type": "stream",
     "text": [
      "None\n"
     ]
    }
   ],
   "source": [
    "print(odds.reverse())"
   ]
  },
  {
   "cell_type": "code",
   "execution_count": 19,
   "id": "9a09e1dd-da71-41c0-b93b-82cb5587029e",
   "metadata": {},
   "outputs": [
    {
     "data": {
      "text/plain": [
       "[11, 7, 5, 3]"
      ]
     },
     "execution_count": 19,
     "metadata": {},
     "output_type": "execute_result"
    }
   ],
   "source": [
    "odds"
   ]
  },
  {
   "cell_type": "markdown",
   "id": "cf4a44d2-881c-48a4-812e-105184238d7c",
   "metadata": {},
   "source": [
    "### Exercise:slicing from the end"
   ]
  },
  {
   "cell_type": "code",
   "execution_count": 27,
   "id": "114706bb-dc1e-40e6-bdbd-131fe97ca8aa",
   "metadata": {},
   "outputs": [],
   "source": [
    "string_for_slicing = 'Observation date: 02-Feb-2013'\n",
    "result = string_for_slicing.split('-')"
   ]
  },
  {
   "cell_type": "code",
   "execution_count": 28,
   "id": "05a8d6e5-67fc-48eb-9367-82fdb96a8658",
   "metadata": {},
   "outputs": [
    {
     "name": "stdout",
     "output_type": "stream",
     "text": [
      "2013\n"
     ]
    }
   ],
   "source": [
    "print(result[-1])"
   ]
  },
  {
   "cell_type": "code",
   "execution_count": 29,
   "id": "552d9566-d72f-4e27-8499-fc09c3bd5703",
   "metadata": {},
   "outputs": [
    {
     "data": {
      "text/plain": [
       "'2013'"
      ]
     },
     "execution_count": 29,
     "metadata": {},
     "output_type": "execute_result"
    }
   ],
   "source": [
    "string_for_slicing[-4:]"
   ]
  },
  {
   "cell_type": "code",
   "execution_count": 35,
   "id": "47e512d2-ee20-4d10-84f3-7ac5b371b251",
   "metadata": {},
   "outputs": [
    {
     "name": "stdout",
     "output_type": "stream",
     "text": [
      "I notpssgre ntesae\n"
     ]
    }
   ],
   "source": [
    "beatles = \"In an octopus's garden in the shade\"\n",
    "print(beatles[0::2])"
   ]
  },
  {
   "cell_type": "code",
   "execution_count": 36,
   "id": "a08cdab9-1d98-4a73-ad0c-05d40153fa14",
   "metadata": {},
   "outputs": [
    {
     "name": "stdout",
     "output_type": "stream",
     "text": [
      "[2, 4, 6, 8, 10, 2, 4, 6, 8, 10]\n"
     ]
    }
   ],
   "source": [
    "counts = [2, 4, 6, 8, 10]\n",
    "print(counts * 2)"
   ]
  },
  {
   "cell_type": "code",
   "execution_count": null,
   "id": "630a1417-cfe0-44d4-96fc-5dbfc673dbeb",
   "metadata": {},
   "outputs": [],
   "source": []
  }
 ],
 "metadata": {
  "kernelspec": {
   "display_name": "Python 3 (ipykernel)",
   "language": "python",
   "name": "python3"
  },
  "language_info": {
   "codemirror_mode": {
    "name": "ipython",
    "version": 3
   },
   "file_extension": ".py",
   "mimetype": "text/x-python",
   "name": "python",
   "nbconvert_exporter": "python",
   "pygments_lexer": "ipython3",
   "version": "3.9.12"
  }
 },
 "nbformat": 4,
 "nbformat_minor": 5
}
