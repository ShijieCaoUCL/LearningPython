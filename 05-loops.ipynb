{
 "cells": [
  {
   "cell_type": "code",
   "execution_count": 1,
   "id": "62d41ff2-d1e8-49a7-b11f-af6a66d1e80b",
   "metadata": {},
   "outputs": [
    {
     "name": "stdout",
     "output_type": "stream",
     "text": [
      "1\n",
      "3\n",
      "5\n",
      "7\n",
      "9\n",
      "11\n"
     ]
    }
   ],
   "source": [
    "odds = [1, 3, 5, 7, 9, 11]\n",
    "for num in odds: \n",
    "    print(num)"
   ]
  },
  {
   "cell_type": "code",
   "execution_count": null,
   "id": "2daf39c2-2a35-42df-a7cf-ada618581af0",
   "metadata": {},
   "outputs": [],
   "source": [
    "for variable in sequence:\n",
    "    # do things with variable"
   ]
  },
  {
   "cell_type": "code",
   "execution_count": 3,
   "id": "9e576e23-fb38-42c5-bf17-8c09f3ef5f51",
   "metadata": {},
   "outputs": [
    {
     "name": "stdout",
     "output_type": "stream",
     "text": [
      "There are  3 name in the list\n"
     ]
    }
   ],
   "source": [
    "length = 0\n",
    "names =[\"Curie\", \"Darwin\", \"Turing\"]\n",
    "for name in names:\n",
    "    length = length + 1\n",
    "print(\"There are \", length, \"name in the list\")"
   ]
  },
  {
   "cell_type": "code",
   "execution_count": 4,
   "id": "4d6825f2-c8fd-4135-ad78-d835614160bd",
   "metadata": {},
   "outputs": [
    {
     "data": {
      "text/plain": [
       "3"
      ]
     },
     "execution_count": 4,
     "metadata": {},
     "output_type": "execute_result"
    }
   ],
   "source": [
    "len(names)"
   ]
  },
  {
   "cell_type": "code",
   "execution_count": null,
   "id": "4495ea14-c300-4525-8468-53904bdbc1be",
   "metadata": {},
   "outputs": [],
   "source": []
  }
 ],
 "metadata": {
  "kernelspec": {
   "display_name": "Python 3 (ipykernel)",
   "language": "python",
   "name": "python3"
  },
  "language_info": {
   "codemirror_mode": {
    "name": "ipython",
    "version": 3
   },
   "file_extension": ".py",
   "mimetype": "text/x-python",
   "name": "python",
   "nbconvert_exporter": "python",
   "pygments_lexer": "ipython3",
   "version": "3.9.12"
  }
 },
 "nbformat": 4,
 "nbformat_minor": 5
}
