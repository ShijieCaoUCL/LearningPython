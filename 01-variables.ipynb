{
 "cells": [
  {
   "cell_type": "markdown",
   "id": "9743a82d-2706-4b3f-ba58-f3d4c7f9e28c",
   "metadata": {},
   "source": [
    "# Variables\n",
    "\n",
    "This is the first notebook of this course\n",
    "\n",
    "We **are** learning ~~matlab~~ using *python* using _jupyer_ notebooks"
   ]
  },
  {
   "cell_type": "code",
   "execution_count": 1,
   "id": "dcce751e-5c52-4918-b50c-79eeda27e6f5",
   "metadata": {},
   "outputs": [],
   "source": [
    "weight_kg = 55"
   ]
  },
  {
   "cell_type": "code",
   "execution_count": 2,
   "id": "a9ca3cca-342e-408f-b044-a86c9668d554",
   "metadata": {},
   "outputs": [
    {
     "name": "stdout",
     "output_type": "stream",
     "text": [
      "55\n"
     ]
    }
   ],
   "source": [
    "print(weight_kg)"
   ]
  },
  {
   "cell_type": "code",
   "execution_count": 3,
   "id": "2a34f19e-4d4f-4e7a-8f6d-4b9966a53fe3",
   "metadata": {},
   "outputs": [
    {
     "name": "stdout",
     "output_type": "stream",
     "text": [
      "weight in pounds 121.00000000000001\n"
     ]
    }
   ],
   "source": [
    "print(\"weight in pounds\", 2.2 * weight_kg)"
   ]
  },
  {
   "cell_type": "code",
   "execution_count": 4,
   "id": "db9f87f3-4ba3-4115-b2ed-176849dcf8d5",
   "metadata": {},
   "outputs": [
    {
     "name": "stdout",
     "output_type": "stream",
     "text": [
      "weight in kg: 55 and in lb: 121.00000000000001\n"
     ]
    }
   ],
   "source": [
    "weight_lb = 2.2 * weight_kg\n",
    "print(\"weight in kg:\", weight_kg, \"and in lb:\", weight_lb)"
   ]
  },
  {
   "cell_type": "code",
   "execution_count": null,
   "id": "008dde74-2de7-4669-bd4b-6c136771d20e",
   "metadata": {},
   "outputs": [],
   "source": []
  }
 ],
 "metadata": {
  "kernelspec": {
   "display_name": "Python 3 (ipykernel)",
   "language": "python",
   "name": "python3"
  },
  "language_info": {
   "codemirror_mode": {
    "name": "ipython",
    "version": 3
   },
   "file_extension": ".py",
   "mimetype": "text/x-python",
   "name": "python",
   "nbconvert_exporter": "python",
   "pygments_lexer": "ipython3",
   "version": "3.9.12"
  }
 },
 "nbformat": 4,
 "nbformat_minor": 5
}
